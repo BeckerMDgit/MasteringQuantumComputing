{
 "cells": [
  {
   "cell_type": "code",
   "execution_count": 1,
   "metadata": {},
   "outputs": [],
   "source": [
    "import numpy as np\n",
    "from functools import reduce\n",
    "from math import log\n",
    "import itertools\n"
   ]
  },
  {
   "cell_type": "markdown",
   "metadata": {},
   "source": [
    "# Useful Code from Chapters 2 and 3\n",
    "## Qubit Representations"
   ]
  },
  {
   "cell_type": "code",
   "execution_count": 2,
   "metadata": {},
   "outputs": [],
   "source": [
    "zero_qubit=np.matrix('1; 0')\n",
    "one_qubit=np.matrix('0; 1')\n",
    "plus_qubit=1/np.sqrt(2)*np.matrix('1; 1')\n",
    "minus_qubit=1/np.sqrt(2)*np.matrix('1; -1')\n",
    "clockwisearrow_qubit=1/np.sqrt(2)*np.matrix([[1],[np.complex(0,1)]])    \n",
    "counterclockwisearrow_qubit=1/np.sqrt(2)*np.matrix([[1],[-np.complex(0,1)]])"
   ]
  },
  {
   "cell_type": "markdown",
   "metadata": {},
   "source": [
    "## The Bloch Sphere"
   ]
  },
  {
   "cell_type": "code",
   "execution_count": 3,
   "metadata": {},
   "outputs": [],
   "source": [
    "import matplotlib.pyplot as plt\n",
    "from mpl_toolkits.mplot3d import Axes3D\n",
    "def get_bloch_coordinates(qubit):\n",
    "    def get_x_bloch(qubit):\n",
    "        qubit_x_basis=1./np.sqrt(2)*np.matrix('1 1; 1 -1')*qubit \n",
    "        prob_zero_qubit=(qubit_x_basis.item(0)*qubit_x_basis.item(0).conjugate()).real\n",
    "        prob_one_qubit=(qubit_x_basis.item(1)*qubit_x_basis.item(1).conjugate()).real\n",
    "        return prob_zero_qubit-prob_one_qubit\n",
    "\n",
    "    def get_y_bloch(qubit):\n",
    "        qubit_y_basis=1./np.sqrt(2)*np.matrix('1 1; 1 -1')*np.matrix([[1,0],[0,-np.complex(0,1)]])*qubit\n",
    "        prob_zero_qubit=(qubit_y_basis.item(0)*qubit_y_basis.item(0).conjugate()).real\n",
    "        prob_one_qubit=(qubit_y_basis.item(1)*qubit_y_basis.item(1).conjugate()).real\n",
    "        return prob_zero_qubit-prob_one_qubit\n",
    "\n",
    "    def get_z_bloch(qubit):\n",
    "        qubit_z_basis=qubit\n",
    "        prob_zero_qubit=(qubit_z_basis.item(0)*qubit_z_basis.item(0).conjugate()).real\n",
    "        prob_one_qubit=(qubit_z_basis.item(1)*qubit_z_basis.item(1).conjugate()).real\n",
    "        return prob_zero_qubit-prob_one_qubit\n",
    "    return (get_x_bloch(qubit),get_y_bloch(qubit),get_z_bloch(qubit))\n",
    "\n",
    "def plot_bloch(qubit,color='b',ax=None):\n",
    "    if not ax:\n",
    "        fig = plt.figure()\n",
    "        ax = fig.add_subplot(111, projection='3d')\n",
    "        \n",
    "        # draw sphere\n",
    "        u, v = np.mgrid[0:2*np.pi:20j, 0:np.pi:10j]\n",
    "        x = np.cos(u)*np.sin(v)\n",
    "        y = np.sin(u)*np.sin(v)\n",
    "        z = np.cos(v)\n",
    "        ax.plot_wireframe(x, y, z, color=\"k\",alpha=.1)\n",
    "        ax.grid(False)\n",
    "\n",
    "    coordinates=get_bloch_coordinates(qubit)\n",
    "    ax.quiver([0],[0],[0],[coordinates[0]],[coordinates[1]],[coordinates[2]],length=1,color=color,arrow_length_ratio=0.3)\n",
    "    ax.set_xlim([-1,1])\n",
    "    ax.set_ylim([-1,1])\n",
    "    ax.set_zlim([-1,1])\n",
    "    ax.set_xlabel('x: |\"-\"> to |\"+\">')\n",
    "    ax.set_ylabel('y: |\"↺\"> to |\"↻\">')\n",
    "    ax.set_zlabel('z: |\"1\"> to |\"0\">')\n",
    "    ax.view_init(azim=20)\n",
    "    return ax\n"
   ]
  },
  {
   "cell_type": "markdown",
   "metadata": {},
   "source": [
    "# Chapter 3 Code"
   ]
  },
  {
   "cell_type": "markdown",
   "metadata": {},
   "source": [
    "# Quantum State"
   ]
  },
  {
   "cell_type": "code",
   "execution_count": 4,
   "metadata": {},
   "outputs": [],
   "source": [
    "def create_quantum_state(qubits):\n",
    "    return reduce(lambda x,y:np.kron(x,y),qubits)"
   ]
  },
  {
   "cell_type": "code",
   "execution_count": 5,
   "metadata": {},
   "outputs": [],
   "source": [
    "register_01=create_quantum_state([zero_qubit,one_qubit])"
   ]
  },
  {
   "cell_type": "code",
   "execution_count": 6,
   "metadata": {},
   "outputs": [],
   "source": [
    "def get_nqubits_quantum_state(state):\n",
    "    return int(log(state.size,2))\n"
   ]
  },
  {
   "cell_type": "markdown",
   "metadata": {},
   "source": [
    "# Quantum Measurement "
   ]
  },
  {
   "cell_type": "code",
   "execution_count": 7,
   "metadata": {},
   "outputs": [],
   "source": [
    "def measure_in_01_basis(state):\n",
    "    from random import random\n",
    "    n_qubits=int(log(state.shape[0],2))\n",
    "    probabilities=[(coeff*coeff.conjugate()).real for coeff in state.flat]\n",
    "    rand=random()\n",
    "    for idx,state_desc in enumerate([''.join(map(str,state_desc)) for state_desc in itertools.product([0, 1], repeat=n_qubits)]):\n",
    "        if rand < sum(probabilities[0:(idx+1)]):\n",
    "            return '|\"%s\">' % state_desc\n",
    "    "
   ]
  },
  {
   "cell_type": "code",
   "execution_count": 8,
   "metadata": {},
   "outputs": [
    {
     "name": "stdout",
     "output_type": "stream",
     "text": [
      "|\"10011\">\n"
     ]
    }
   ],
   "source": [
    "print(measure_in_01_basis(create_quantum_state([one_qubit,zero_qubit,zero_qubit,one_qubit,one_qubit])))"
   ]
  },
  {
   "cell_type": "code",
   "execution_count": 9,
   "metadata": {},
   "outputs": [
    {
     "name": "stdout",
     "output_type": "stream",
     "text": [
      "|\"11\">\n",
      "|\"11\">\n",
      "|\"00\">\n",
      "|\"00\">\n",
      "|\"00\">\n",
      "|\"00\">\n",
      "|\"11\">\n",
      "|\"11\">\n",
      "|\"00\">\n",
      "|\"11\">\n"
     ]
    }
   ],
   "source": [
    "for i in range(10):\n",
    "    bell_state_phi_plus=(create_quantum_state([zero_qubit,zero_qubit])+create_quantum_state([one_qubit,one_qubit]))/np.sqrt(2)\n",
    "    print(measure_in_01_basis(bell_state_phi_plus))"
   ]
  },
  {
   "cell_type": "markdown",
   "metadata": {},
   "source": [
    "# Separable States"
   ]
  },
  {
   "cell_type": "code",
   "execution_count": 10,
   "metadata": {},
   "outputs": [],
   "source": [
    "def get_qubits_from_state(state):\n",
    "    basis_states=[zero_qubit,one_qubit,plus_qubit,minus_qubit,clockwisearrow_qubit,counterclockwisearrow_qubit]\n",
    "    for separated_state in itertools.product(basis_states, repeat=get_nqubits_quantum_state(state)):\n",
    "        candidate_state=create_quantum_state(separated_state)\n",
    "        if np.allclose(candidate_state,state):\n",
    "            return separated_state\n"
   ]
  },
  {
   "cell_type": "code",
   "execution_count": 11,
   "metadata": {},
   "outputs": [
    {
     "data": {
      "text/plain": [
       "(matrix([[0],\n",
       "         [1]]), matrix([[1],\n",
       "         [0]]), matrix([[1],\n",
       "         [0]]), matrix([[0],\n",
       "         [1]]), matrix([[0],\n",
       "         [1]]))"
      ]
     },
     "execution_count": 11,
     "metadata": {},
     "output_type": "execute_result"
    }
   ],
   "source": [
    "register_10011=create_quantum_state([one_qubit,zero_qubit,zero_qubit,one_qubit,one_qubit])\n",
    "get_qubits_from_state(register_01)\n",
    "get_qubits_from_state(register_10011)"
   ]
  },
  {
   "cell_type": "code",
   "execution_count": 12,
   "metadata": {},
   "outputs": [],
   "source": [
    "non_separable_state_00_plus_11=1/np.sqrt(2)*(create_quantum_state([zero_qubit,zero_qubit])+create_quantum_state([one_qubit,one_qubit]))"
   ]
  },
  {
   "cell_type": "code",
   "execution_count": 13,
   "metadata": {},
   "outputs": [
    {
     "data": {
      "text/plain": [
       "matrix([[ 0.1],\n",
       "        [ 0.3],\n",
       "        [ 0.3],\n",
       "        [ 0.9]])"
      ]
     },
     "execution_count": 13,
     "metadata": {},
     "output_type": "execute_result"
    }
   ],
   "source": [
    "ten_ninety_qubit=np.sqrt(0.1)*zero_qubit+np.sqrt(0.9)*one_qubit\n",
    "create_quantum_state([ten_ninety_qubit,ten_ninety_qubit])"
   ]
  },
  {
   "cell_type": "code",
   "execution_count": 14,
   "metadata": {},
   "outputs": [
    {
     "name": "stdout",
     "output_type": "stream",
     "text": [
      "None\n"
     ]
    }
   ],
   "source": [
    "print(get_qubits_from_state(create_quantum_state([ten_ninety_qubit,ten_ninety_qubit])))"
   ]
  },
  {
   "cell_type": "markdown",
   "metadata": {},
   "source": [
    "# Decoherence, $T_1$, and $T_2$"
   ]
  },
  {
   "cell_type": "code",
   "execution_count": 15,
   "metadata": {},
   "outputs": [
    {
     "name": "stdout",
     "output_type": "stream",
     "text": [
      "4.34294481903e-05\n"
     ]
    }
   ],
   "source": [
    "probability_state_one_after_point1millisecond=0.1\n",
    "t=0.0001\n",
    "# probability_state_one_after_point1millisecond = np.e**(-t/T1) so T1 = -t/np.log(probability_state_one_after_point1millisecond)\n",
    "T1=-t/np.log(probability_state_one_after_point1millisecond)\n",
    "print(T1)"
   ]
  },
  {
   "cell_type": "code",
   "execution_count": null,
   "metadata": {},
   "outputs": [],
   "source": []
  }
 ],
 "metadata": {
  "kernelspec": {
   "display_name": "Python 3",
   "language": "python",
   "name": "python3"
  },
  "language_info": {
   "codemirror_mode": {
    "name": "ipython",
    "version": 3
   },
   "file_extension": ".py",
   "mimetype": "text/x-python",
   "name": "python",
   "nbconvert_exporter": "python",
   "pygments_lexer": "ipython3",
   "version": "3.6.2"
  }
 },
 "nbformat": 4,
 "nbformat_minor": 2
}
