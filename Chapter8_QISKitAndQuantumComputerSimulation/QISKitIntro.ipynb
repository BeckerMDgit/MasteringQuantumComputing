{
 "cells": [
  {
   "cell_type": "markdown",
   "metadata": {},
   "source": [
    "# Testing QISKit installation and API setup"
   ]
  },
  {
   "cell_type": "code",
   "execution_count": 4,
   "metadata": {
    "collapsed": true
   },
   "outputs": [],
   "source": [
    "from qiskit import Aer\n",
    "\n",
    "from qiskit import IBMQ\n",
    "# Authenticate an account and add for use during this session. Replace string\n",
    "# argument with your private token.\n",
    "IBMQ.enable_account(\"INSERT_YOUR_API_TOKEN_HERE\") "
   ]
  },
  {
   "cell_type": "markdown",
   "metadata": {},
   "source": [
    "# Running a Quantum Program Using IBM QX API"
   ]
  },
  {
   "cell_type": "code",
   "execution_count": 6,
   "metadata": {},
   "outputs": [
    {
     "data": {
      "image/png": "[encoded data removed]",
      "text/plain": [
       "<matplotlib.figure.Figure at 0x11878fd30>"
      ]
     },
     "execution_count": 6,
     "metadata": {},
     "output_type": "execute_result"
    }
   ],
   "source": [
    "import time\n",
    "import qiskit\n",
    "from qiskit.tools.visualization import plot_histogram\n",
    "\n",
    "# Pick an available backend\n",
    "backend = IBMQ.get_backend('ibmq_qasm_simulator')\n",
    "\n",
    "# Setup 5 quantum and 5 classical registers, performing a measurement\n",
    "q = qiskit.QuantumRegister(5)\n",
    "c = qiskit.ClassicalRegister(5)\n",
    "qc = qiskit.QuantumCircuit(q, c)\n",
    "qc.measure(q, c)\n",
    "\n",
    "# Executing the job on IBM QX\n",
    "job_exp = qiskit.execute(qc, backend=backend)\n",
    "plot_histogram(job_exp.result().get_counts(qc))\n"
   ]
  },
  {
   "cell_type": "markdown",
   "metadata": {},
   "source": [
    "# Working with QASM\n",
    "## From a file"
   ]
  },
  {
   "cell_type": "code",
   "execution_count": 13,
   "metadata": {},
   "outputs": [
    {
     "name": "stdout",
     "output_type": "stream",
     "text": [
      "{'00000': 1024}\n"
     ]
    }
   ],
   "source": [
    "import qiskit\n",
    "from qiskit import QuantumCircuit\n",
    "qc = QuantumCircuit.from_qasm_file(\"reversible.qasm\")\n",
    "# Run on local simulator\n",
    "backend= Aer.get_backend('qasm_simulator')\n",
    "sim = qiskit.execute(qc, backend=backend)\n",
    "result = sim.result()\n",
    "# Output result\n",
    "print(result.get_counts(qc))"
   ]
  },
  {
   "cell_type": "markdown",
   "metadata": {},
   "source": [
    "## From a string"
   ]
  },
  {
   "cell_type": "code",
   "execution_count": 16,
   "metadata": {},
   "outputs": [
    {
     "name": "stdout",
     "output_type": "stream",
     "text": [
      "{'11': 1024}\n"
     ]
    },
    {
     "name": "stderr",
     "output_type": "stream",
     "text": [
      "/Users/corbett/anaconda/lib/python3.6/site-packages/qiskit/wrapper/_wrapper.py:30: DeprecationWarning: The load_qasm_string() function is deprecated and will be removed in a future release. Instead use QuantumCircuit.from_qasm_str().\n",
      "  'QuantumCircuit.from_qasm_str().', DeprecationWarning)\n"
     ]
    }
   ],
   "source": [
    "import qiskit\n",
    "from qiskit import QuantumCircuit\n",
    "qasm_string=\"\"\"\n",
    "OPENQASM 2.0;\n",
    "include \"qelib1.inc\";\n",
    "qreg q[2];\n",
    "creg c[2];\n",
    "x q[0];\n",
    "x q[1];\n",
    "measure q[0] -> c[0];\n",
    "measure q[1] -> c[1];\n",
    "\"\"\"\n",
    "backend= Aer.get_backend('qasm_simulator')\n",
    "qc = qiskit.wrapper.load_qasm_string(qasm_string)\n",
    "# Run on local simulator\n",
    "\n",
    "sim = qiskit.execute(qc, backend=backend)\n",
    "result = sim.result()\n",
    "# Output result\n",
    "print(result.get_counts(qc))"
   ]
  },
  {
   "cell_type": "code",
   "execution_count": 7,
   "metadata": {},
   "outputs": [
    {
     "ename": "ImportError",
     "evalue": "cannot import name 'execute'",
     "output_type": "error",
     "traceback": [
      "\u001b[0;31m---------------------------------------------------------------------------\u001b[0m",
      "\u001b[0;31mImportError\u001b[0m                               Traceback (most recent call last)",
      "\u001b[0;32m<ipython-input-7-da6cc36478b9>\u001b[0m in \u001b[0;36m<module>\u001b[0;34m()\u001b[0m\n\u001b[1;32m      1\u001b[0m \u001b[0;31m# Testing QISKit Acqua installation\u001b[0m\u001b[0;34m\u001b[0m\u001b[0;34m\u001b[0m\u001b[0m\n\u001b[0;32m----> 2\u001b[0;31m \u001b[0;32mimport\u001b[0m \u001b[0mqiskit_acqua\u001b[0m\u001b[0;34m\u001b[0m\u001b[0m\n\u001b[0m\u001b[1;32m      3\u001b[0m \u001b[0;32mimport\u001b[0m \u001b[0mqiskit_acqua_chemistry\u001b[0m\u001b[0;34m\u001b[0m\u001b[0m\n",
      "\u001b[0;32m/Users/corbett/anaconda/lib/python3.6/site-packages/qiskit_acqua/__init__.py\u001b[0m in \u001b[0;36m<module>\u001b[0;34m()\u001b[0m\n\u001b[1;32m     23\u001b[0m                                 discover_qconfig)\n\u001b[1;32m     24\u001b[0m \u001b[0;32mfrom\u001b[0m \u001b[0;34m.\u001b[0m\u001b[0malgorithmerror\u001b[0m \u001b[0;32mimport\u001b[0m \u001b[0mAlgorithmError\u001b[0m\u001b[0;34m\u001b[0m\u001b[0m\n\u001b[0;32m---> 25\u001b[0;31m \u001b[0;32mfrom\u001b[0m \u001b[0;34m.\u001b[0m\u001b[0moperator\u001b[0m \u001b[0;32mimport\u001b[0m \u001b[0mOperator\u001b[0m\u001b[0;34m\u001b[0m\u001b[0m\n\u001b[0m\u001b[1;32m     26\u001b[0m \u001b[0;32mfrom\u001b[0m \u001b[0;34m.\u001b[0m\u001b[0mquantumalgorithm\u001b[0m \u001b[0;32mimport\u001b[0m \u001b[0mQuantumAlgorithm\u001b[0m\u001b[0;34m\u001b[0m\u001b[0m\n\u001b[1;32m     27\u001b[0m from ._discover import (refresh_pluggables,\n",
      "\u001b[0;32m/Users/corbett/anaconda/lib/python3.6/site-packages/qiskit_acqua/operator.py\u001b[0m in \u001b[0;36m<module>\u001b[0;34m()\u001b[0m\n\u001b[1;32m     25\u001b[0m \u001b[0;32mfrom\u001b[0m \u001b[0mscipy\u001b[0m \u001b[0;32mimport\u001b[0m \u001b[0mlinalg\u001b[0m \u001b[0;32mas\u001b[0m \u001b[0mscila\u001b[0m\u001b[0;34m\u001b[0m\u001b[0m\n\u001b[1;32m     26\u001b[0m \u001b[0;32mfrom\u001b[0m \u001b[0mqiskit\u001b[0m \u001b[0;32mimport\u001b[0m \u001b[0mQuantumRegister\u001b[0m\u001b[0;34m,\u001b[0m \u001b[0mClassicalRegister\u001b[0m\u001b[0;34m,\u001b[0m \u001b[0mQuantumCircuit\u001b[0m\u001b[0;34m\u001b[0m\u001b[0m\n\u001b[0;32m---> 27\u001b[0;31m \u001b[0;32mfrom\u001b[0m \u001b[0mqiskit\u001b[0m\u001b[0;34m.\u001b[0m\u001b[0mwrapper\u001b[0m \u001b[0;32mimport\u001b[0m \u001b[0mexecute\u001b[0m \u001b[0;32mas\u001b[0m \u001b[0mq_execute\u001b[0m\u001b[0;34m\u001b[0m\u001b[0m\n\u001b[0m\u001b[1;32m     28\u001b[0m \u001b[0;32mfrom\u001b[0m \u001b[0mqiskit\u001b[0m\u001b[0;34m.\u001b[0m\u001b[0mtools\u001b[0m\u001b[0;34m.\u001b[0m\u001b[0mqi\u001b[0m\u001b[0;34m.\u001b[0m\u001b[0mpauli\u001b[0m \u001b[0;32mimport\u001b[0m \u001b[0mPauli\u001b[0m\u001b[0;34m,\u001b[0m \u001b[0mlabel_to_pauli\u001b[0m\u001b[0;34m,\u001b[0m \u001b[0msgn_prod\u001b[0m\u001b[0;34m\u001b[0m\u001b[0m\n\u001b[1;32m     29\u001b[0m \u001b[0;32mfrom\u001b[0m \u001b[0mqiskit\u001b[0m\u001b[0;34m.\u001b[0m\u001b[0mqasm\u001b[0m \u001b[0;32mimport\u001b[0m \u001b[0mpi\u001b[0m\u001b[0;34m\u001b[0m\u001b[0m\n",
      "\u001b[0;31mImportError\u001b[0m: cannot import name 'execute'"
     ]
    }
   ],
   "source": [
    "# Testing QISKit Acqua installation\n",
    "import qiskit_acqua \n",
    "import qiskit_acqua_chemistry\n"
   ]
  },
  {
   "cell_type": "code",
   "execution_count": 24,
   "metadata": {
    "collapsed": true
   },
   "outputs": [],
   "source": [
    "import numpy\n",
    "import pygame, pygame.sndarray\n",
    "import pickle\n",
    "\n",
    "def play_notes(freqs,volumes):\n",
    "    \"\"\"\n",
    "    freqs: a list of frequencies in Hz \n",
    "    volumes a list of volumes: (1 highest 0 lowest)\n",
    "    example usage:\n",
    "    play_notes([440,880],[0.6,0.2])\n",
    "\n",
    "    \"\"\"\n",
    "    pygame.mixer.init()\n",
    "    sample_wave=sum([numpy.resize(volume*16384*numpy.sin(numpy.arange(int(44100/float(hz)))*numpy.pi*2/(44100/float(hz))),(44100,)).astype(numpy.int16) for hz,volume in zip(freqs,volumes)])\n",
    "    stereo = numpy.vstack((sample_wave, sample_wave)).T.copy(order='C')\n",
    "    sound = pygame.sndarray.make_sound(stereo)\n",
    "    sound.play(-1)\n",
    "    pygame.time.delay(1000)\n",
    "    sound.stop()\n",
    "    pygame.time.delay(1000)\n",
    "\n",
    "def quantum_play_notes(qc,shots):\n",
    "    \"\"\"\n",
    "    qc: the quantum circuit of 7 qubits\n",
    "    shots: the number of times to prepare and perform the circuit computation\n",
    "\n",
    "    The quantum state is prepared <shots> number of times. \n",
    "    \n",
    "    The result of the measurement each time is played as a single note.\n",
    "    \n",
    "    \"\"\"\n",
    "    midi_conversion_tables=pickle.load(open('midi_conversion_tables.p','rb'))        \n",
    "    midi_to_note_bin=midi_conversion_tables['midi_to_note_bin']\n",
    "    midi_to_frequency_bin=midi_conversion_tables['midi_to_frequency_bin']\n",
    "\n",
    "    backend= Aer.get_backend('qasm_simulator')\n",
    "    for i in range(shots):\n",
    "        # Note shots=1 may result in a deprecation warning, which will go away in a future code version.\n",
    "        sim = qiskit.execute(qc,backend=backend,shots=1)\n",
    "        result = sim.result()\n",
    "        final=result.get_counts(qc)\n",
    "        [print(midi_to_note_bin[k]) for k in final.keys()]\n",
    "        play_notes([float(midi_to_frequency_bin[k]) for k in final.keys()],[1.0])\n",
    "\n",
    "\n",
    "def quantum_play_chords(qc,shots):\n",
    "    \"\"\"\n",
    "    qc: the quantum circuit of 7 qubits\n",
    "    shots: the number of times to prepare and perform the circuit computation\n",
    "\n",
    "    The quantum state is prepared <shots> number of times.\n",
    "    \n",
    "    This method helps to hear the outcome of the <shots> measurements together by producing \n",
    "    a chord where each note in the chord is a measurement result and the maximum volume of the note\n",
    "    is reduced the fraction of the times the note appears in <shots> measurement.\n",
    "    \"\"\"\n",
    "    midi_conversion_tables=pickle.load(open('midi_conversion_tables.p','rb'))        \n",
    "    midi_to_note_bin=midi_conversion_tables['midi_to_note_bin']\n",
    "    midi_to_frequency_bin=midi_conversion_tables['midi_to_frequency_bin']\n",
    "\n",
    "    \n",
    "    backend= Aer.get_backend('qasm_simulator')\n",
    "    sim = qiskit.execute(qc, backend=backend,shots=shots)\n",
    "    result = sim.result()\n",
    "    final=result.get_counts(qc)\n",
    "\n",
    "    freqs=[]\n",
    "    volumes=[]\n",
    "    for k,v in final.items():\n",
    "        try:\n",
    "            freqs+=[float(midi_to_frequency_bin[k])]\n",
    "            volumes+=[int(v)/shots]\n",
    "            print('%f percent' % (int(v)/shots*100),midi_to_note_bin[k])\n",
    "        except:\n",
    "            print('%f percent' % (int(v)/shots*100),k)\n",
    "    play_notes(freqs,volumes)\n",
    "\n",
    "\n"
   ]
  },
  {
   "cell_type": "code",
   "execution_count": 25,
   "metadata": {
    "collapsed": true
   },
   "outputs": [],
   "source": [
    "import qiskit\n",
    "from qiskit import ClassicalRegister, QuantumRegister\n",
    "from qiskit import QuantumCircuit, execute\n",
    "\n",
    "# set up registers and program\n",
    "qr = QuantumRegister(7)\n",
    "cr = ClassicalRegister(7)\n",
    "qc = QuantumCircuit(qr, cr)\n",
    "\n",
    "# F4 and A4 together:\n",
    "qc.x(qr[0]) # 1 at qubit 0\n",
    "qc.x(qr[6]) # 1 at qubit 6\n",
    "qc.h(qr[2]) # create superposition on qubit 2\n",
    "\n",
    "for j in range(7):\n",
    "    qc.measure(qr[j], cr[j])\n"
   ]
  },
  {
   "cell_type": "code",
   "execution_count": 26,
   "metadata": {},
   "outputs": [
    {
     "name": "stdout",
     "output_type": "stream",
     "text": [
      "F4\n",
      "A4\n",
      "A4\n",
      "F4\n",
      "100.000000 percent A4\n"
     ]
    }
   ],
   "source": [
    "quantum_play_notes(qc,4)\n",
    "quantum_play_chords(qc,4)"
   ]
  },
  {
   "cell_type": "code",
   "execution_count": 27,
   "metadata": {
    "collapsed": true
   },
   "outputs": [],
   "source": [
    "import qiskit\n",
    "from qiskit import ClassicalRegister, QuantumRegister\n",
    "from qiskit import QuantumCircuit, execute\n",
    "\n",
    "# set up registers and program\n",
    "qr = QuantumRegister(7)\n",
    "cr = ClassicalRegister(7)\n",
    "qc = QuantumCircuit(qr, cr)\n",
    "\n",
    "qc.x(qr[4]) # 1 at qubit 4\n",
    "qc.x(qr[5]) # 1 at qubit 5\n",
    "qc.h(qr[2]) # create a superposition on qubit 2\n",
    "qc.h(qr[3]) # create a superposition on qubit 3\n",
    "\n",
    "for j in range(7):\n",
    "    qc.measure(qr[j], cr[j])\n"
   ]
  },
  {
   "cell_type": "code",
   "execution_count": 28,
   "metadata": {},
   "outputs": [
    {
     "name": "stdout",
     "output_type": "stream",
     "text": [
      "E3\n",
      "C3\n",
      "C4\n",
      "C3\n",
      "26.666667 percent E3\n",
      "11.111111 percent C4\n",
      "28.888889 percent C3\n",
      "33.333333 percent G#3\n"
     ]
    }
   ],
   "source": [
    "quantum_play_notes(qc,4)\n",
    "quantum_play_chords(qc,45)"
   ]
  },
  {
   "cell_type": "code",
   "execution_count": null,
   "metadata": {
    "collapsed": true
   },
   "outputs": [],
   "source": []
  }
 ],
 "metadata": {
  "kernelspec": {
   "display_name": "Python 3",
   "language": "python",
   "name": "python3"
  },
  "language_info": {
   "codemirror_mode": {
    "name": "ipython",
    "version": 3
   },
   "file_extension": ".py",
   "mimetype": "text/x-python",
   "name": "python",
   "nbconvert_exporter": "python",
   "pygments_lexer": "ipython3",
   "version": "3.6.1"
  }
 },
 "nbformat": 4,
 "nbformat_minor": 2
}
